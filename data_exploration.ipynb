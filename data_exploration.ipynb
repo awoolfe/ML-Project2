{
 "cells": [
  {
   "cell_type": "code",
   "execution_count": 1,
   "metadata": {
    "pycharm": {
     "is_executing": false
    }
   },
   "outputs": [],
   "source": [
    "import pandas as pd\n",
    "from collections import Counter\n",
    "from itertools import chain"
   ]
  },
  {
   "cell_type": "markdown",
   "metadata": {},
   "source": [
    "# Data loading"
   ]
  },
  {
   "cell_type": "code",
   "execution_count": 2,
   "metadata": {
    "pycharm": {
     "is_executing": false
    }
   },
   "outputs": [],
   "source": [
    "df = pd.read_csv(\"data/reddit_train.csv\")"
   ]
  },
  {
   "cell_type": "code",
   "execution_count": 3,
   "metadata": {
    "pycharm": {
     "is_executing": false
    }
   },
   "outputs": [
    {
     "name": "stdout",
     "text": [
      "Data format:\n\nid                                                            0\ncomments      Honestly, Buffalo is the correct answer. I rem...\nsubreddits                                               hockey\nName: 0, dtype: object\n"
     ],
     "output_type": "stream"
    }
   ],
   "source": [
    "print(\"Data format:\\n\")\n",
    "print(df.iloc[0])"
   ]
  },
  {
   "cell_type": "code",
   "execution_count": 4,
   "metadata": {
    "pycharm": {
     "is_executing": false
    }
   },
   "outputs": [
    {
     "name": "stdout",
     "text": [
      "Number of examples per subreddit:\n\nwow                3500\nmovies             3500\nAskReddit          3500\nnba                3500\nconspiracy         3500\nGlobalOffensive    3500\ncanada             3500\nsoccer             3500\nanime              3500\nworldnews          3500\nMusic              3500\neurope             3500\nOverwatch          3500\nleagueoflegends    3500\nfunny              3500\nhockey             3500\nnfl                3500\nbaseball           3500\ntrees              3500\ngameofthrones      3500\nName: subreddits, dtype: int64\n"
     ],
     "output_type": "stream"
    }
   ],
   "source": [
    "print(\"Number of examples per subreddit:\\n\")\n",
    "print(df.subreddits.value_counts())"
   ]
  },
  {
   "cell_type": "markdown",
   "metadata": {},
   "source": [
    "# Corpus vocabulary (no preprocessing)"
   ]
  },
  {
   "cell_type": "code",
   "execution_count": 5,
   "metadata": {
    "pycharm": {
     "is_executing": false
    }
   },
   "outputs": [
    {
     "name": "stdout",
     "text": [
      "Total words in corpus:  2955954\n"
     ],
     "output_type": "stream"
    }
   ],
   "source": [
    "corpus = \" \".join(df.comments.to_list()).split()\n",
    "print(\"Total words in corpus: \", len(corpus))"
   ]
  },
  {
   "cell_type": "code",
   "execution_count": 6,
   "metadata": {
    "pycharm": {
     "is_executing": false
    }
   },
   "outputs": [
    {
     "name": "stdout",
     "text": [
      "Number of unique 'words' in corpus:  187629\n"
     ],
     "output_type": "stream"
    }
   ],
   "source": [
    "vocab = Counter(corpus)\n",
    "print(\"Number of unique 'words' in corpus: \", len(vocab))"
   ]
  },
  {
   "cell_type": "code",
   "execution_count": 7,
   "metadata": {
    "pycharm": {
     "is_executing": false
    }
   },
   "outputs": [
    {
     "name": "stdout",
     "text": [
      "1000 most common words: \n\nthe :  114884\nto :  72190\na :  68406\nand :  59579\nof :  51613\nI :  48315\nis :  38504\nin :  38503\nthat :  35374\nyou :  29315\nit :  27053\nfor :  26018\nwas :  21762\non :  18850\nhave :  18722\nbe :  18107\nwith :  18061\nbut :  17498\nare :  17369\nnot :  16668\nthis :  15899\nas :  14494\nthey :  14364\njust :  12751\nlike :  12659\nhe :  12530\nor :  12418\nif :  11219\nat :  11197\nThe :  9991\nso :  9563\nyour :  9497\nmy :  9208\nabout :  9149\nwould :  9089\nfrom :  8950\ncan :  8811\nall :  8586\nmore :  8259\nan :  8231\nhis :  8074\nget :  8001\ndon't :  7995\none :  7707\nhas :  7673\npeople :  7622\nthink :  7417\nit's :  7336\nbecause :  7256\ntheir :  7179\ndo :  7004\nwhat :  6988\nwhen :  6850\nwill :  6749\nup :  6703\nI'm :  6646\nby :  6645\nwe :  6639\nout :  6633\nthan :  6116\nwho :  5836\n- :  5765\nhow :  5598\nsome :  5524\nme :  5486\nno :  5436\nhad :  5431\nreally :  5414\nonly :  5379\nbeen :  5194\neven :  5128\nwere :  5115\nany :  5040\nthem :  4948\nIf :  4925\nthere :  4899\nYou :  4686\ngood :  4666\nother :  4602\nhim :  4568\nknow :  4485\nsee :  4406\nIt :  4362\nIt's :  4345\nmuch :  4319\ntime :  4199\nbeing :  4172\n&gt; :  4101\nthen :  4089\nmake :  4064\nstill :  3928\ncould :  3888\nalso :  3733\nit. :  3677\nwhich :  3654\ngoing :  3605\nshould :  3520\ni :  3365\nmost :  3352\ninto :  3348\nBut :  3331\nAnd :  3309\nway :  3308\nwant :  3296\ngot :  3248\nyou're :  3230\nHe :  3209\ngo :  3193\nThis :  3143\nfirst :  3140\nwhy :  3035\nbetter :  3021\nneed :  3020\nThey :  3013\nher :  3009\nsame :  2971\nsay :  2938\nvery :  2932\ndoesn't :  2928\nnever :  2880\nwhere :  2879\nover :  2837\ndid :  2819\ndidn't :  2816\nafter :  2816\npretty :  2793\nteam :  2790\nthat's :  2693\nlot :  2683\nactually :  2683\nplay :  2675\nshe :  2671\ncan't :  2648\nback :  2640\nthose :  2613\nour :  2593\ngame :  2558\nbefore :  2520\nevery :  2515\nam :  2511\nsomething :  2479\nbest :  2455\nI've :  2448\nthese :  2438\ntoo :  2427\nits :  2407\nnow :  2381\ntake :  2329\ndoes :  2317\nlast :  2309\nright :  2296\nmade :  2257\nSo :  2256\nmany :  2242\noff :  2192\nisn't :  2186\nThat :  2162\nprobably :  2159\nsure :  2142\nhe's :  2141\nalways :  2122\nnew :  2121\nsomeone :  2080\nyears :  2036\naround :  2026\npost :  2022\nthing :  2017\nsaid :  2002\nuse :  1981\nwhile :  1976\ntwo :  1959\nsince :  1959\nIn :  1954\nmusic :  1906\n* :  1891\nfeel :  1876\nfew :  1850\nwithout :  1850\nbad :  1827\nyear :  1821\npoint :  1821\nwell :  1820\nWe :  1820\nshit :  1784\nA :  1780\ngetting :  1756\nfind :  1745\nNot :  1717\ngreat :  1716\nthings :  1711\nThat's :  1694\ndown :  1685\nagainst :  1677\nlove :  1650\nWhat :  1642\nmight :  1640\n2 :  1628\nlook :  1624\nI'd :  1610\nmakes :  1605\nPlease :  1599\nsaying :  1587\nThere :  1586\nthought :  1581\nguy :  1561\nown :  1559\nlong :  1558\nplayers :  1549\nanything :  1536\nmean :  1533\nwork :  1525\n| :  1522\never :  1520\ndifferent :  1515\nus :  1510\nput :  1509\ngive :  1500\nboth :  1483\nthrough :  1459\ndoing :  1458\nused :  1455\nleast :  1446\ntrying :  1443\ntop :  1437\nlittle :  1432\nthat. :  1424\npart :  1416\nshow :  1412\n3 :  1405\nnothing :  1389\nenough :  1384\nplaying :  1381\nhaving :  1378\nMy :  1377\nbig :  1376\nmaking :  1360\neveryone :  1352\nit, :  1348\nanother :  1347\nalready :  1341\nmay :  1333\nhere :  1319\ncome :  1316\nJust :  1309\nfucking :  1309\nNo :  1301\nless :  1301\nwouldn't :  1298\nthey're :  1297\nwasn't :  1286\nsuch :  1285\ntry :  1282\nend :  1263\nquestions :  1262\nAs :  1253\nplayer :  1252\nkeep :  1248\nnext :  1243\nthere's :  1240\nread :  1236\nbit :  1225\nmoney :  1221\nalmost :  1213\nfar :  1208\ndefinitely :  1206\naction :  1201\nseen :  1197\nthem. :  1197\nseason :  1183\nhigh :  1176\nbelieve :  1175\nwhole :  1168\nhard :  1161\ngets :  1150\nable :  1137\ngames :  1132\nuntil :  1129\nYour :  1116\nwatch :  1109\nnow. :  1107\nbetween :  1106\nwent :  1106\nkind :  1106\nold :  1101\nplayed :  1099\nworld :  1094\nreason :  1094\nseems :  1086\nanyone :  1082\nperformed :  1071\ntalking :  1068\nFor :  1064\nmaybe :  ",
      "1062\nthough :  1059\nHow :  1048\naren't :  1045\nmoderators :  1043\nlooks :  1039\n[contact :  1036\nme. :  1036\ntime. :  1029\nplace :  1020\nI'll :  1019\nreal :  1017\nday :  1015\neach :  1008\n5 :  1008\nfact :  998\nstart :  998\nWhy :  994\nguys :  993\nhelp :  993\n*I :  992\nfuck :  990\nWhen :  990\nbot, :  ",
      "989\nautomatically. :  982\nconcerns.* :  981\nHe's :  972\nwon't :  968\nteams :  966\ntell :  965\nthough. :  965\nmeans :  962\nunderstand :  947\n1 :  939\nremoved :  938\naway :  937\nhit :  932\nplease :  931\nremember :  927\ndone :  926\nmovie :  920\nperson :  917\nlive :  913\nduring :  912\nvideo :  908\nlet :  902\ncorrect :  896\nlooking :  887\nusing :  885\nunder :  882\nsecond :  881\nchange :  875\nelse :  873\neverything :  871\nwin :  867\nhim. :  867\ntimes :  863\nfull :  851\nproblem :  845\nagain :  843\nhope :  838\nrather :  836\nidea :  829\nguess :  823\nstuff :  823\ngonna :  822\nquite :  820\nleft :  815\nhate :  814\nmust :  812\nagree :  809\nUS :  807\neither :  805\nonce :  805\nlevel :  804\nliterally :  804\ntoo. :  801\nlikely :  797\nyou. :  795\nAlso :  790\nentire :  788\nsingle :  788\nfree :  788\n10 :  784\n4 :  784\nsaw :  783\nlife :  776\ncame :  774\ncountry :  773\nstarted :  771\ncompletely :  768\nAll :  764\nseem :  760\nman :  758\ntook :  757\nwanted :  753\nthat, :  752\npay :  751\nhalf :  747\nIs :  746\ninstead :  746\nbuy :  744\nwrong :  743\nrun :  741\ncall :  735\nfun :  733\nShe :  732\nYeah :  728\nup. :  727\ncare :  727\ncalled :  727\nstop :  725\nusually :  721\nMaybe :  719\nname :  716\nTo :  715\nthis. :  712\ngovernment :  711\nneeds :  708\ncomes :  707\nYou're :  701\nfound :  700\nkill :  699\nfans :  696\ncomment :  689\nbecome :  689\nEven :  686\nWell :  686\nposting :  683\nwell. :  682\nfan :  681\nPeople :  680\nheard :  678\nhaven't :  678\nwatching :  673\nespecially :  672\nnice :  671\nOr :  668\nThen :  668\ndont :  666\nbasically :  666\nmatter :  665\nThere's :  664\nexactly :  663\nbased :  662\nsubmission :  661\nDon't :  659\nset :  659\nsystem :  657\ncouple :  657\npast :  656\nwe're :  655\ncase :  653\ncharacter :  650\nBecause :  649\nAt :  645\nthere. :  641\ngroup :  637\nclose :  635\nsays :  634\nOh :  633\ndeal :  633\nsupport :  632\npoints :  632\nout. :  631\ngoes :  630\n&amp; :  629\nOne :  628\nstory :  627\ngame. :  624\nhere. :  622\nNow :  621\nYeah, :  621\nrest :  621\nchance :  618\ncoming :  618\npick :  617\nworth :  616\nband :  616\nmind :  615\ncheck :  614\nside :  610\ntaking :  610\nhuge :  607\nAlso, :  606\nEU :  604\nexample :  604\ntalk :  603\nposted :  603\nlost :  600\nleague",
      " :  597\nhappened :  596\nalbum :  591\namount :  591\nnumber :  588\nsong :  587\nis. :  587\nDo :  587\nTrump :  585\nsense :  584\nmain :  583\njob :  582\nsmall :  580\noften :  576\nsubmissions :  576\ngiven :  570\ndamage :  570\nmove :  568\nsimply :  567\nyet :  567\ndue :  567\nactual :  562\nsimilar :  560\npower :  559\nextra :  557\nall. :  555\nposts :  554\nthinking :  550\nwants :  550\nbehind :  549\nme, :  548\nworking :  547\nanime :  547\n6 :  544\ndays :  544\ncouldn't :  543\nshows :  543\nline :  543\none. :  542\nthree :  541\nask :  541\ntext :  541\nleave :  541\nfriends :  539\nyear. :  536\nmajor :  535\nsuper :  530\neasy :  525\nlow :  525\nplays :  524\nHis :  521\ntold :  521\nwon :  519\nis, :  519\nlol :  518\nabsolutely :  518\ndelete :  518\nEdit: :  517\nseeing :  516\ncertain :  515\n:) :  514\ntime, :  512\ncourse :  511\ntried :  511\netc. :  511\ncause :  509\ngave :  509\nyou, :  508\nknew :  508\nthough, :  506\nfight :  505\nyou'll :  503\nLike :  503\nquestion :  502\nfavorite :  499\nthread :  499\nallowed :  498\nago :  496\nhome :  496\nlose :  495\nimportant :  495\nhappen :  494\ncurrent :  494\ncontent :  493\nIts :  493\nyears. :  493\nName :  491\nper :  490\nreleased :  489\nstate :  488\nAmerican :  487\nreddit :  486\nearly :  484\nstupid :  483\nhigher :  482\ntakes :  481\nwait :  479\ncharacters :  478\nones :  478\nissue :  476\nfamily :  476\nsound :  476\nOn :  475\nhear :  474\nnow, :  472\nwish :  470\nDoes :  466\naverage :  462\nsounds :  462\nfelt :  460\nothers :  460\nteam. :  459\npossible :  458\nweek :  458\ntrade :  455\nknown :  454\n(and :  453\nschool :  452\nthem, :  452\ntrue :  452\n{non-music :  452\nturn :  451\nagain. :  449\nenjoy :  448\nCanada :  447\nmedia :  446\nwhite :  446\ngood. :  445\nknows :  444\ncountries :  444\nface :  443\noutside :  442\nseason. :  441\nsort :  440\ngiving :  440\n20 :  440\nshouldn't :  439\nworst :  438\nfriend :  437\nmillion :  437\nAre :  436\nworse :  433\nshe's :  432\nlooked :  431\nshot :  431\nwatched :  429\nhours :  429\nyou've :  428\nlater :  427\nGood :  427\npoint. :  426\nseries :  426\nhead :  426\nSome :  424\nunless :  424\nway. :  424\npeople. :  424\naccount :  423\norder :  421\nbring :  420\nsupposed :  420\nexperience :  420\ncool :  420\n--- :  420\nkilled :  419\nThese :  418\nMost :  418\nrules :  418\nclearly :  417\nstarting :  416\ncurrently :  416\nJon :  416\nscene :  416\nvs :  416\nexpect :  415\nhappy :  415\nshare :  413\neasily :  413\nadd :  413\ncomments :  412\nlearn :  411\nstay :  411\nminutes :  410\ndifference :  410\nopen :  410\nkinda :  410\ninteresting :  409\nkids :  409\nclear :  409\nwar :  409\nyoung :  408\nthing. :  408\nfront :  407\nhim, :  407\nwhatever :  406\nmyself :  404\nyourself :  403\nblack :  402\noriginal :  401\nhuman :  401\nlist :  400\nthis, :  399\nlonger :  399\nhell :  398\nwithin :  398\ntype :  396\nball :  396\nappropriate :  396\nimagine :  393\ntotally :  393\nnot. :  392\ndamn :  392\nsaid, :  392\nclass :  391\nWell, :  391\nThey're :  391\ndo. :  390\nrunning :  390\nepisode :  389\nabove :  389\nOf :  388\nevidence :  388\nnormal :  388\npublic :  388\nrealize :  387\nconsider :  387\nhonestly :  387\nlarge :  387\nsubmitting :  387\nfilm :  387\nworks :  386\ndoubt :  386\nobviously :  385\ntitle :  385\ngives :  384\nmonths :  383\nshit. :  383\nconsidered :  383\nNo, :  383\nalong :  382\nweird :  382\ncommon :  381\nCan :  381\npaid :  380\nWith :  380\nhistory :  380\nhappens :  379\nsub :  378\nword :  377\nsometimes :  377\nlink :  377\ndecent :  376\nbeat :  376\nYes, :  376\nNew :  376\nthemselves :  375\nmeant :  374\nAn :  372\nliving :  371\nright? :  371\nshort :  370\nmusic, :  370\nfine :  369\namazing :  369\nfunny :  368\ntag :  368\nTHE :  368\nAfter :  367\ntogether :  366\nage :  366\nit? :  365\ncut :  364\nnews :  364\nyeah :  364\nmovies :  363\npolitical :  362\non. :  361\nopinion :  361\nday. :  359\nenemy :  359\nwhat's :  359\ncertainly :  358\nseveral :  358\nmean, :  358\nremoved. :  358\nsign :  357\ntaken :  356\n7 :  356\nstrong :  356\nThank :  356\nsubreddit :  356\nthrow :  356\nwonder :  355\nmention :  355\nmostly :  355\nsubreddit](/message/compose/?to=/r/Music) :  354\nrecord :  354\nfollowing :  353\nquality :  353\nmajority :  353\nnear :  353\nwhether :  352\npersonal :  349\narticle :  349\nsongs :  349\nreading :  349\ncareer :  347\nknow, :  347\nfeels :  346\nargument :  346\nup, :  344\ncompared :  344\ntitle. :  344\nbunch :  342\nWhich :  342\nsmoke :  342\npoor :  342\ngeneral :  342\nlate :  342\n100% :  340\nlisten :  340\nWhile :  339\nform :  339\nmen :  339\nmiddle :  339\nworked :  339\n/ :  339\nchanged :  338\ngame, :  337\nposition :  337\nRussia :  337\nwomen :  336\nhold :  335\nlower :  335\n8 :  334\n30 :  334\n\"I :  334\nloved :  333\nim :  333\ncrazy :  332\nlead :  332\nsituation :  332\n\" :  332\nkid :  331\nCanadian :  331\nrule :  330\nextremely :  330\nspend :  330\npopular :  329\nasked :  329\nbetter. :  329\nlife. :  328\nyou'd :  328\n**If :  328\ncontrol :  328\ngirl :  327\nasking :  327\ndefense :  326\nnight :  325\nbuild :  324\nanswer :  324\nwell, :  324\ntowards :  324\ngone :  324\nDid :  323\nhimself :  323\nin. :  322\nassume :  321\nneeded :  321\nWho :  320\ndeath :  320\ndecided :  319\nhasn't :  319\nforget :  319\nweren't :  319\nmultiple :  318\nstraight :  317\nUK :  317\nbiggest :  317\nyear, :  317\nright. :  316\nliked :  316\nbook :  316\nvote :  316\nbreak :  316\nlaw :  316\nsubmit :  315\ndude :  314\ncommunity :  313\nhand :  312\nway, :  312\n15 :  312\nvalue :  312\nCheck :  311\nThanks :  311\nexplain :  310\ntank :  309\nnobody :  309\nthats :  309\ninformation :  308\nmatch :  307\nautomatically :  307\ncomplete :  307\nlack :  305\ninfo :  305\nass :  305\nended :  305\nexcept :  305\nmiss :  305\ncannot :  304\nallow :  304\n^^if :  304\nresubmit :  302\nspent :  301\nrelease :  300\nfollow :  300\nThose :  300\nfeeling :  299\nbecame :  299\nfair :  299\ncontract :  298\nto. :  298\nspecific :  298\ncity :  297\nout, :  296\ndead :  296\nshitty :  295\nissues :  295\nfeedback :  295\nputting :  294\nlol. :  293\nweeks :  293\nroom :  292\ntoo, :  292\n(which :  292\nanything. :  292\nyeah, :  291\nsave :  291\nthere, :  290\npositive :  290\ntelling :  289\nspoilers :  288\nsocial :  288\neasier :  288\nincluding :  288\nnumbers :  288\n? :  288\ncost :  288\nfuture :  287\nHave :  287\n= :  287\nstyle :  287\ngotten :  287\nHowever, :  286\nspoiler :  285\nFuck :  285\nlosing :  285\nOP :  285\nwinning :  285\naudio :  285\nconsidering :  284\ngenerally :  284\nact :  284\nsend :  284\nfinally :  284\ndie :  284\nmore. :  283\nmoment :  283\nsurprised :  283\nthird :  283\nterrible :  283\n(or :  282\nfucked :  282\nturned :  282\nmuch. :  282\nsubreddit](/message/compose/?to=/r/gameofthrones) :  281\nawesome :  281\nhouse :  281\nwrong. :  281\nability :  281\nagain, :  280\nplenty :  280\nwork. :  280\nstand :  279\nfit :  279\nthey'll :  278\nReddit :  278\ncalling :  278\nhealth :  278\nversion :  277\nOnly :  277\nmembers :  277\nperfect :  276\nscore :  276\nterms :  276\nblame :  276\nrandom :  276\nfurther :  276\nback. :  276\nforce :  275\nproblems :  275\nWould :  275\nfood :  275\nwilling :  274\n... :  274\npaying :  274\ndiscussion :  273\n2. :  273\nserious :  273\n(I :  273\nhere, :  272\nparty :  272\nformat :  272\nago. :  271\nbad. :  271\ndrop :  270\n+ :  270\neither. :  269\n"
     ],
     "output_type": "stream"
    }
   ],
   "source": [
    "print(\"1000 most common words: \\n\")\n",
    "for word, count in vocab.most_common()[:1000]:\n",
    "    print(word, \": \", count)"
   ]
  },
  {
   "cell_type": "code",
   "execution_count": 8,
   "metadata": {
    "pycharm": {
     "is_executing": false
    }
   },
   "outputs": [
    {
     "name": "stdout",
     "text": [
      "1000 least common words: \n\nBeast. :  1\nautoaim :  1\nstrong). :  1\noverpowered\" :  1\nhttps://en.wikipedia.org/wiki/Lawrence_v._Texas :  1\n^89590 :  1\nSugou :  1\ngrapes) :  1\ngrown, :  1\nfoodstuffs :  1\nParma, :  1\nReggio :  1\nModena, :  1\nBologna, :  1\nMantua :  1\nParmesan. :  1\ndelicacies :  1\n$23.27 :  1\nkg, :  1\n$49.11 :  1\nkg. :  1\nhttps://www.parmashop.com/english/parmigiano-reggiano.html :  1\nwinemakers :  1\nShiraz, :  1\nRiesling, :  1\nMueller-Thurgau, :  1\nDornfelder, :  1\nChardonnay :  1\nBarbaresco :  1\nChianti, :  1\nRioja :  1\nReserva, :  1\nsommeliers :  1\npalatable. :  1\nremember!) :  1\ntrees: :  1\ntreason): :  1\nmother-bear :  1\nmedia*. :  1\n\"Prop :  1\nfriendly\" :  1\nUlting :  1\nSejuani... :  1\nNumminen :  1\nTeppo, :  1\ngot: :  1\nproclaimed. :  1\nbelow... :  1\nbicyclist/columnist :  1\nShaplro. :  1\nHurvitz :  1\nMitzvah :  1\nHurvltz... :  1\nCounsel, :  1\nAdvocacy :  1\ncommittee. :  1\ni, :  1\nLoulse.... :  1\nShimmel's :  1\nshlmmel... :  1\nHanAholeSolo :  1\npurveyed :  1\ncircle-jerking. :  1\ni. :  1\nWotLK, :  1\nintroverted :  1\ndie\", :  1\n*sigh*). :  1\nNorthshire :  1\nAbbey :  ",
      "1\n24.99 :  1\nrewind? :  1\nDC'd. :  1\n\"Think :  1\n$150, :  1\nrule.\" :  1\nEstate. :  1\nawper, :  1\nsexytime, :  1\nfemale-empowerment. :  1\nempowerment? :  1\nHog, :  1\nglaucoma.\" :  1\nalive?\" :  1\n\"Yeah...it :  1\nhelps.\" :  1\nhards. :  1\nRating. :  1\nCitizen), :  1\nsoliciting :  1\npopcorn. :  1\nDaaamn :  1\nheartbreaker :  1\nproblematic*. :  1\n&gt;Doomfist :  1\nbase? :  1\nprototype, :  1\nshadowstep :  1\nshadowstep, :  1\npromiscuous? :  1\nsaid](http://www.songfacts.com/blog/interviews/bill_withers/) :  1\n[*Days :  1\nRoses*](http://www.imdb.com/title/tt0055895/ :  1\nmovie\"). :  1\ninsidious. :  1\nrulers, :  1\nGilgamesh. :  1\nUruk :  1\nexaggerates :  1\nGilgamesh's :  1\ngoddess :  1\nEnkidu. :  1\nCaliphate. :  1\nvisualize :  1\nSteven. :  1\n\"Traffic\". :  1\nCanda. :  1\nCanadian\" :  1\nministre :  1\nhttps://en.wikipedia.org/wiki/Minister_of_Immigration,_Refugees_and_Citizenship :  1\nextracurricular :  1\nJing, :  1\nBandits. :  1\nDisappointment :  1\nfews :  1\ninvisibility. :  1\nSteed :  1\ninvisibility, :  1\ndruid) :  1\nbrainfarted :  1\nghostwolf :  1\nsinger's :  1\nsupports) :  1\ndis\" :  1\nDareus... :  1\nBayBay :  1\nTebow... :  1\npop(ular). :  1\nsocial/cultural :  1\nblossoming :  1\ngolden-age? :  1\nintegrated, :  1\ncitizen\" :  1\nhbogo :  1\nCobble) :  1\nalone\". :  1\ncons.",
      " :  1\nspillover :  1\nColorado's. :  1\n#30 :  1\neast-coast :  1\nwest-coast :  1\nWashington's :  1\nmadhouse :  1\nmaster? :  1\nanything.....](https://youtu.be/unkIVvjZc9Y?t=16s) :  1\nDispossession :  1\ndispossessed :  1\n88% :  1\nbaisically :  1\nstrech :  1\nthat...) :  1\ndammitall, :  1\n*stupid* :  1\npeople/KM^2. :  1\npoulation :  1\n/KM^2. :  1\n50km :  1\nEURO :  1\n\"ed :  1\nsheeran! :  1\nconcert!\" :  1\nhybrid... :  1\nFinder :  1\nEZRA :  1\nNorgannon :  1\nRealm\". :  1\n9:06pm :  1\nHotboxing :  1\nShizuku :  1\npromos... :  1\nLDL :  1\n(“bad” :  1\ncholesterol), :  1\natherosclerosis. :  1\nMultipurpose. :  1\n\"resin :  1\nfiends\" :  1\npot'. :  1\nruthlessly :  1\nsmalling :  1\nNeighbours :  1\nwarts :  1\n1.36x. :  1\nON's :  1\n1.55 :  1\n93-95% :  1\n(2,093,000 :  1\nkm²) :  1\n(696,241 :  1\nkm²), :  1\nNWT :  1\n&gt;Khazars :  1\nemphasis, :  1\ncalligraphy. :  1\nRogers/Bell/Telus :  1\nTBayTel. :  1\nhorde? :  1\nsilvermoon :  1\nhttps://realmpop.com/eu-silvermoon.html :  1\nhttps://www.wowprogress.com/realms/rank/eu :  1\nasking) :  1\njanitor. :  1\nAK-47 :  1\nVilla. :  1\nGREATEST :  1\nMOMENTS :  1\nquarter](https://www.youtube.com/watch?v=CxiHMIM4NWI) :  1\nAw! :  1\nbad/weird :  1\nfavorite; :  1\nIndustries. :  1\n\"superhero\" :  1\nrockin' :  1\nVulcun :  1\nTechbargains :  1\nmancloud. :  1\nFeck! :  1\nnothingburger, :  1\nsmear. :  1\nNIGHT. :  1\njungles? :  1\nNidalee, :  1\nBlitz, :  1\nCho. :  1\nNid :  1\npowerfists :  1\n\"radar :  1\nimages\" :  1\nauba :  1\nragaz :  1\nRiiight, :  1\nauto-locks :  1\nPhalanx :  1\nR2D2 :  1\n/u/crossmr :  1\nhttps://en.wikipedia.org/wiki/List_of_tallest_buildings_in_Europe :  1\nLakhta :  1\nCenter(463m) :  1\nprogress: :  1\nhttp://s019.radikal.ru/i613/1706/6f/d86bcfc21c40.jpg :  1\nTower(310m) :  1\nVisualization: :  1\nhttp://eurobuildcee.com/upload/images/HB_Reavis_Varso_02.jpg :  1\nun-objective :  1\nhomo***phobe***, :  1\nsemantics; :  1\nkill/stone/lynch :  1\n\"marriage\" :  1\n\"marrying\" :  1\nhomosexuals. :  1\nhomophobes :  1\nthing\", :  1\nBeibs. :  1\nCommock :  1\n“shame, :  1\nscorn.” :  1\narguments? :  1\nGyros :  1\nTyropita :  1\nrelentlessly, :  1\nhabitually :  1\nEars :  1\nFonsi's :  1\n~~know :  1\ncode~~ :  1\ncvsnk2 :  1\nConstantine :  1\nsynchronicity :  1\n(ability :  1\nluck) :  1\nprinces :  1\nGreyjoy? :  1\nTarth? :  1\nMormont. :  1\nConquerer :  1\nOpted :  1\nantiquated, :  1\narrows? :  1\nDrew's :  1\nstinkers :  1\nPro-Bowl, :  1\nMoses. :  1\nMuslims/Hindus/Buddhism :  1\nseminars :  1\nken :  1\n'nothing :  1\nimpossible). :  1\n2+2=3? :  1\nRCD :  1\ndecay? :  1\nprefect :  1\nanalogy? :  1\nprimordial :  1\n/u/Pvtpenguin311 :  1\nrecently](/r/Music/comments/6i74of/paramore_passionfruit_drake_cover_pop/?ref=search_posts). :  1\nerror.&amp;message=https://reddit.com/r/Music/comments/6lloqp/paramore_last_hope_live_rock/). :  1\nRider. :  1\nSawashiro's :  1\n\"herb :  1\nherb\" :  1\nand.. :  1\nharshed :  1\nmellow\" :  1\nfk'd. :  1\ncypriot :  1\ncypriots :  1\nhigher-risk :  1\nmisdiagnosing :  1\nhernia :  1\nsurgery... :  1\nvariable, :  1\nbeaning :  1\nHapp. :  1\nApprentice, :  1\nApprentice. :  1\nTite's :  1\nbrimming :  1\nChallengers :  1\n(arguably). :  1\nmatchup? :  1\n0.00001% :  1\ncoldzera, :  1\nKnG :  1\nCold, :  1\nHUUUUUUGE :  1\nFallen's :  1\nHeheh, :  1\nHedo :  1\nTurkoglu's :  1\nTurkoglu :  1\nx-posted :  1\nRedirect :  1\ncatalyze :  1\nmemery :  1\nBoatloads. :  1\n\"app\" :  1\nhalted, :  1\ndeflation :  1\nSELIC :  1\n40's, :  1\nconsultancy :  1\n&gt;put :  1\nLava-Jato :  1\nJato :  1\nGeneral's :  1\ndoes). :  1\nHC: :  1\nhandsome, :  1\nin-way-better-shape-than-you :  1\npartway :  1\nnon-salaried :  1\n**average** :  1\nHighlander :  1\n\"schizophrenic\" :  1\nunderstand). :  1\nrecommended]. :  1\nborn). :  1\nRinne, :  1\nJSG :  1\nTN, :  1\nKY :  1\nUW :  1\nthing,” :  1\nO’Reilly. :  1\nhappens.” :  1\n/u/lukekuluke, :  1\nOcho :  1\nskill.\" :  1\nimpeccable, :  1\nforewarned, :  1\ntechno/glitch :  1\n(Radio :  1\nAmor, :  1\nmustve :  1\nguy..I :  1\nMadson. :  1\nALCS, :  1\nDodgers-Diamondbacks :  1\nNLCS. :  1\n\"Alright :  1\nnation.\" :  1\nConstantinople!\" :  1\nseats? :  1\n99-100. :  1\nfeud, :  1\n*leading* :  1\n\"leading\". :  1\nmuslim/\"christian\" :  1\nhomosexuals\" :  1\nattendees :  1\nleather-daddy :  1\naviators :  1\nhomosexual\"? :  1\nwardrobe? :  1\nHR's. :  1\nothers.\" :  1\nrespect...\" :  1\n(severely, :  1\nBar, :  1\nfather-in-law, :  1\nanti-psychotic, :  1\ndosing, :  1\nCAH :  1\nlemieux :  1\nstart...unlike :  1\n\"Suck :  1\nCocks!\" :  1\n\"Identity :  1\nProtection\". :  1\nDeezer :  1\nemp :  1\nzarya/winston :  1\nNewsguy :  1\nweapon( :  1\n2.30 :  1\nteamers :  1\nSpeers :  1\napplicable. :  1\nabout?! :  1\n$3.5M :  1\noverspend :  1\nkids/teenagers :  1\n(Pass :  1\nchild), :  1\nquestion). :  1\nchildren/teens :  1\n(Let's :  1\nadmittedly. :  1\nArt, :  1\nDesign, :  1\nDrama, :  1\nfuture) :  1\nGays, :  1\nLesbians, :  1\nTransexuals :  1\nheterosexuals. :  1\nreviewed, :  1\ncurriculum, :  1\nSikh. :  1\nspent? :  1\nfaiths? :  1\nunderstandings? :  1\napply: :  1\naggressive... :  1\n\"Aggressive\" :  1\n\"Church :  1\nSatan\" :  1\nsatan. :  1\napplication... :  1\nstate/public :  1\n\"Families :  1\n(Providing :  1\nCultures :  1\namazingly... :  1\nhealbot's :  1\n&lt;80 :  1\nruler/corejj :  1\nbang/wolf. :  1\n'obviously :  1\nguilty'. :  1\nwealthy? :  1\nLuthor. :  1\noverweening :  1\nworkers\" :  1\n\"disposable\" :  1\n(typically :  1\nabuser's :  1\n\"thanks\"/\"appreciate :  1\nit\"/\"didn't :  1\ndick...my :  1\ndecorum? :  1\nkeywords? :  1\nJohnson). :  1\n([link](https://pizzabottle.com/40920-ed-sheeran-literally-deleted-twitter-fans-hated-game-thrones-cameo/?llid=mZavY&amp;utm_source=pbls&amp;utm_medium=9Lw3)). :  1\nbloke. :  1\nMegathread, :  1\n\"Megathreads\" :  1\n[list :  1\n3](https://www.reddit.com/r/gameofthrones/wiki/megathreads/s7e3). :  1\nr/soccer? :  1\n(Norwich, :  1\nUnsworth) :  1\nEtihad :  1\nteams'. :  1\nCalcium, :  1\nPotassium, :  1\nintolerant. :  1\nroommate...but :  1\nchimps :  1\ndisrespected :  1\nthing?\" :  1\nrestaurant?\" :  1\nall' :  1\n1.0. :  1\nSCOC :  1\nextraterritoriality. :  1\nhttp://www.michaelgeist.ca/2017/06/global-internet-takedown-orders-come-canada-supreme-court-upholds-international-removal-google-search-results/ :  1\nok!thanks(the :  1\n3-9. :  1\n\"Daisuki :  1\nDattara :  1\nDaijoubu!\") :  1\nhere](https://www.reddit.com/r/LoveLive/comments/5nb9hq/aqours_music_primer_daisuki_dattara_daijoubu/). :  1\nlayering :  1\nstagnating; :  1\nvisual/sound :  1\n*criminally* :  1\nbreakup. :  1\nintersection. :  1\nfree-flow :  1\nmerge: :  1\nyield. :  1\naudiosettings :  1\n\"Bells\" :  1\n\"Albert\" :  1\n00;25 :  1\n00;39 :  1\nnanatsu :  1\ntaizai :  1\n2;43 :  1\nevangelion, :  1\n3;34 :  1\nparasyte :  1\n'geodefault :  1\ndistortion' :  1\nobjection: :  1\n*excluding* :  1\n*active* :  1\nIPs. :  1\nrecounts. :  1\nAbue :  1\nhearsay, :  1\ngo-between :  1\n“Russian :  1\nattorney” :  1\ntroves :  1\n(Error: :  1\nProsecutor.) :  1\n[Bungled :  1\nCollusion.](http://www.nationalreview.com/article/449481/donald-trump-jr-emails-demonstrate-immoral-collusion) :  1\nELI5: :  1\nlegos? :  1\nsens/DPI, :  1\nleast] :  1\nisolate. :  1\nhydraulic :  1\nPressed :  1\nCuriously, :  1\nFutility.\" :  1\n'updated' :  1\nline\" :  1\npublication) :  1\n1898 :  1\nrepub. :  1\n(anyone?) :  1\n\"updates\" :  1\nFML. :  1\n**TRY** :  1\nuntouchable, :  1\nPesce, :  1\nre-acquired :  1\n(Aho, :  1\nRask) :  1\nShero, :  1\nelders. :  1\ncasuals\" :  1\ncasuals, :  1\nRunescape. :  1\nrideshare :  1\nAttainder :  1\npassed.\". :  1\nrecklessly. :  1\n\"recklessly :  1\nsharing\". :  1\nConcensus :  1\nmultiple-pennyars :  1\n\"NO-SHIT\" :  1\nFlapper's :  1\n[(1st :  1\nhere)](/s :  1\ndanger.\") :  1\n**it's :  1\nOrganic :  1\n1871, :  1\nsolidified :  1\n1913.** :  1\ncosmology :  1\npusspuss. :  1\nmdy :  1\nr/buildapc :  1\n*to*. :  1\n71? :  1\n80, :  1\ndps-wise. :  1\nrotation/priorities, :  1\n\"ranting, :  1\nquestion\"? :  1\nfrustatration :  1\nOffspring](https://www.youtube.com/watch?v=QtTR-_Klcq8) :  1\n[Greatest :  1\nhits](https://www.youtube.com/watch?v=Ybws0-FRUqQ) :  1\n[Edit, :  1\nit](https://www.youtube.com/watch?v=CDl9ZMfj6aE) :  1\nof](https://www.youtube.com/watch?v=CDl9ZMfj6aE&amp;list=PLQlc99hV-nkERnw1xBPaHFGdlrwp6EeHa) :  1\nRostov :  1\nOblast :  1\nCEC(Central :  1\nCommission). :  1\none(the :  1\nvotes) :  1\nCPRF(the :  1\nFederation), :  1\nLDPR(Liberal-Democratic :  1\nRussia), :  1\nRussia(social-democrats :  1\nYabloko(the :  1\nCause. :  1\n146% :  1\n99,9999% :  1\ncommentface :  1\ndiving, :  1\nSuarez's :  1\nGhana. :  1\nUruguayans :  1\nBastardisation :  1\nmatter?\". :  1\nr/nba/new :  1\nparamour :  1\nG-Girl95. :  1\nLyanna? :  1\nNed? :  1\nYep.. :  1\nLudovic :  1\nWaeber :  1\nAjoie :  1\nMartigny :  1\nDubé :  1\n20yo :  1\nSprunger/Bykov :  1\nscroll-jumping. :  1\ncrouching :  1\nspred :  1\n30... :  1\nacct :  1\nNaming :  1\n*shiver* :  1\n64bit :  1\nSpeer? :  1\nSatan? :  1\nhttp://www.espn.com/nba/story/_/id/19031533/gm-president-ratings-1-30 :  1\n9/10, :  1\nplenty! :  1\nrepulsed :  1\nHistory? :  1\n\"Consolidation :  1\nsandwich\") :  1\nPLANS :  1\nPROMISES. :  1\nLIAR... :  1\nJadaveon :  1\nClowney's :  1\nsomething.... :  1\nHedburg, :  1\nCK, :  1\nGaffigan... :  1\nstandup. :  1\nfifth: :  1\nGaflinaski :  1\nOswalt :  1\nlink](http://i.giphy.com/Ic97mPViHEG5O.mp4) :  1\n98.74% :  1\n(110.75 :  1\n8.58 :  1\nlids :  1\ncuddles :  1\ntax... :  1\nkronor. :  1\nsometime? :  1\nreoffence :  1\nparole. :  1\n\"Create :  1\ntemplate\" :  1\nPork :  1\nsuper-hero :  1\nDerrick? :  1\n1am. :  1\n62nd :  1\nAthletic, :  1\ntearful :  1\nco.'s :  1\npage! :  1\n'Indy' :  1\nPostcard :  1\nshop's :  1\nassociates*, :  1\n*Spandau :  1\nballet*, :  1\nteardrop :  1\nexplodes!*, :  1\n*Echo :  1\nBunnymen*, :  1\n*DAF*, :  1\ngo-gos*, :  1\nsleeves, :  1\nremixes... :  1\nPolyGram, :  1\nstory....) :  1\ndankest, :  1\nmeatballs :  1\ncaramel, :  1\nbanana's :  1\n[4+] :  1\nvotl's :  1\nMay: :  1\nmalevolent, :  1\nspecies\" :  1\npogs :  1\nplayground? :  1\n&gt;Ravished :  1\n**1918 :  1\nArshaluys :  1\n(Aurora) :  1\nMardiganian**... :  1\n**A :  1\n1919** :  1\nSevres :  1\nTreaty! :  1\nArmenian/non-Turkish/non-Jewish :  1\n1923 :  1\non-scale :  1\nexternal/internal :  1\nexploitation. :  1\nexternally :  1\nsecure? :  1\nequilibriums :  1\nnon-violently. :  1\nequilibrium. :  1\narmy) :  1\ndoesn't)? :  1\nmaxes :  1\n16-18k. :  1\ncropping. :  1\n&gt;Whilst :  1\nhurtful, :  1\n\"advice\" :  1\n\"truthfulness\". :  1\ndiagnosis...) :  1\nspecial-treatment :  1\nsocial/therapeutic :  1\nknown: :  1\ncrazymaker\" :  1\nsupport/counseling :  1\nonset. :  1\nlongterm :  1\n\"deal :  1\ntypical. :  1\nMackyt, :  1\n\"stat :  1\nsquish\". :  1\nk's :  1\nkk's. :  1\nHeaps :  1\nbegets :  1\nbeget :  1\nRivers' :  1\n07. :  1\nPatriot's :  1\nrut, :  1\n'Doctor, :  1\nthis' :  1\n[makes :  1\ngesture]. :  1\nsaid?\" :  1\n\"...Don't :  1\n\"Yep.\" :  1\n\"...That's :  1\nadvice.\" :  1\nrut :  1\nenriches :  1\ndifferent.\" :  1\nBlended. :  1\nhttps://www.youtube.com/watch?v=KjFPmZUWLI0&amp;feature=youtu.be :  1\ncase...that's :  1\nsharks/salmon/tuna :  1\nHamburg. :  1\nSternschanze :  1\nRote :  1\nSchanzenfest :  1\n21:30, :  1\n21:45 :  1\n22:00 :  1\nriots, :  1\n_all :  1\ntime_ :  1\nsachi :  1\nRecipe, :  1\nisn't](http://www.pewforum.org/files/2013/04/worlds-muslims-religion-politics-society-full-report.pdf) :  1\nEnglanders :  1\ncordial :  1\nclass!\" :  1\nfun](https://www.reddit.com/r/DnDGreentext/comments/65oh8n/roll_for_jesus_at_disadvantage/?st=j5lhsc7d&amp;sh=96b3f7a2) :  1\nclassic](http://imgur.com/gallery/J0VqH) :  ",
      "1\n/r/anime. :  1\ntho..... :  1\nrumor? :  1\nmid-air. :  1\nTravel. :  1\nplanted. :  1\nCareers :  1\nGranddad. :  1\nwork...but :  1\nin...Paris?...Bangkok?...istanbul?... :  1\nOden. :  1\n[Utsu :  1\nSayuri](https://myanimelist.net/anime/13405/Utsu_Musume_Sayuri) :  1\npleasing, :  1\ntbph :  1\n**impossible** :  1\nKunitz, :  1\ncommunities: :  1\nTebow's :  1\nbloodstream :  1\nLilo&amp;Stitch :  1\nslapstick. :  1\nbusing :  1\ncleanup, :  1\ndoctoring :  1\nlate-50's :  1\nreconciled. :  1\n'Curse :  1\nCassandra' :  1\nethic\", :  1\nbelievers) :  1\nreward\". :  1\nfirebombing :  1\nclinics, :  1\nProgress, :  1\ndefined, :  1\n\"pussy :  1\nvacuous. :  1\nMaslow's :  1\nHierarchy :  1\nNeeds. :  1\nduality. :  1\ncritiqued :  1\n\"extremist\". :  1\nBrown](https://en.wikipedia.org/wiki/John_Brown_(abolitionist), :  1\nabolitionist, :  1\nunconscionable :  1\ndestruction, :  1\ninconvenient, :  1\nfiance. :  1\nscorer/shooter. :  1\nsubraces :  1\nTaunka/moose :  1\nConcordia. :  1\nPico. :  1\nabout...tell :  1\nfoolhardy :  1\nTake? :  1\nhandicap. :  1\nID'd :  1\nrastas :  1\nopinions? :  1\n\"doing\" :  1\napathetic. :  1\nerdogans :  1\nİstanbul :  1\nfailiure :  1\nSariyer :  1\nbands... :  1\ndramatic/funny :  1\nadmiring :  1\nBloodthirster :  1\nGoddess :  1\nPentakill, :  1\nPossibly... :  1\nEvelynn? :  1\nis...[from :  1\nColombia](http://www.youtube.com/watch?v=RxOruSEur24) :  1\nChuckle. :  1\n\"hurr :  1\naverage!\" :  1\nconvinced? :  1\nAntebellum. :  1\ncontributing! :  1\nr/ents :  1\npassword? :  1\nauthenticator? :  1\n926 :  1\npally/919 :  1\ncongratulation! :  1\nOutre :  1\nbelle :  1\nplanète :  1\nl'espace, :  1\nqu'elles :  1\nexpériences :  1\navez :  1\nhâte :  1\nfois? :  1\n'hard :  1\nroad' :  1\nsomeways. :  1\nroasted. :  1\nworkmates :  1\nelitiest :  1\nerased. :  1\nNarwahl :  1\n\"Lime :  1\ncomunici :  1\nengleza? :  1\nFaci :  1\nreclama :  1\nolx, :  1\ncartiere :  1\nsau :  1\nce? :  1\nhoarders. :  1\n20-somethings :  1\ncringeworthy, :  1\nTap. :  1\naforesaid :  1\nresign, :  1\nprecursory :  1\nOtani :  1\nParty? :  1\n[Sources :  1\nbottom.](https://en.wikipedia.org/wiki/2016_Democratic_National_Committee_email_leak#Responsibility) :  1\nCNN/FOX/MSNBC. :  1\noligarchies, :  1\n*\"Meanwhile :  1\nmuch?\"* :  1\nexceptions) :  1\n*sans :  1\nevidence*. :  1\nconspiratorial. :  1\n*evidence* :  1\n**supposed** :  1\n**moderates** :  1\ncenter) :  1\nmarginalizes :  1\n'development' :  1\nbare-bones. :  1\nSlayers :  1\n/u/hiddenhillsmusic :  1\n[permalink](https://www.reddit.com/r/Music/comments/6qjw8m/demi_lovato_sorry_not_sorry_freestyle_rap_2017/) :  1\n40h. :  1\n40h :  1\n32h, :  1\nsaving, :  1\n8h :  1\n\"Kreider :  1\nincomptent :  1\ndoublethink :  1\nlevels... :  1\nboys? :  1\nantinatalism. :  1\n~~not~~ :  1\nAMIRITE??!?!??!!!? :  1\nerasers :  1\neraser :  1\nscreamed. :  1\n\"Meh, :  1\npremier, :  1\ncockroaches; :  1\n75,000 :  1\nToba :  1\n\"nuclear\" :  1\nmetallurgy, :  1\ndesolate, :  1\ninhospitable :  1\ncockroaches. :  1\n\"Surely :  1\ncomment!\". :  1\nMonogamy :  1\nBaseball, :  1\nExtremadura. :  1\n(2008-2014), :  1\nCentro :  1\nconverged :  1\npeninsula. :  1\nweapon! :  1\n4X :  1\nanimes/SoL :  1\nMAL](https://myanimelist.net/animelist/Talonpls) :  1\nLaunders, :  1\nsado :  1\ntop:D :  1\n"
     ],
     "output_type": "stream"
    }
   ],
   "source": [
    "print(\"1000 least common words: \\n\")\n",
    "for word, count in vocab.most_common()[-1000:]:\n",
    "    print(word, \": \", count)"
   ]
  },
  {
   "cell_type": "markdown",
   "metadata": {},
   "source": [
    "# Data preprocessing with spacy"
   ]
  },
  {
   "cell_type": "code",
   "execution_count": 9,
   "metadata": {
    "pycharm": {
     "is_executing": false
    }
   },
   "outputs": [],
   "source": [
    "import spacy\n",
    "from tqdm import tqdm_notebook as tqdm"
   ]
  },
  {
   "cell_type": "code",
   "execution_count": 10,
   "metadata": {
    "pycharm": {
     "is_executing": false
    }
   },
   "outputs": [
    {
     "traceback": [
      "\u001b[1;31m---------------------------------------------------------------------------\u001b[0m",
      "\u001b[1;31mOSError\u001b[0m                                   Traceback (most recent call last)",
      "\u001b[1;32m<ipython-input-10-12d7d1fafad4>\u001b[0m in \u001b[0;36m<module>\u001b[1;34m\u001b[0m\n\u001b[1;32m----> 1\u001b[1;33m \u001b[0mnlp\u001b[0m \u001b[1;33m=\u001b[0m \u001b[0mspacy\u001b[0m\u001b[1;33m.\u001b[0m\u001b[0mload\u001b[0m\u001b[1;33m(\u001b[0m\u001b[1;34m\"en_core_web_sm\"\u001b[0m\u001b[1;33m)\u001b[0m\u001b[1;33m\u001b[0m\u001b[1;33m\u001b[0m\u001b[0m\n\u001b[0m\u001b[0;32m      2\u001b[0m \u001b[1;33m\u001b[0m\u001b[0m\n",
      "\u001b[1;32mc:\\users\\jeman\\pycharmprojects\\dfsrecap\\venv\\lib\\site-packages\\spacy\\__init__.py\u001b[0m in \u001b[0;36mload\u001b[1;34m(name, **overrides)\u001b[0m\n\u001b[0;32m     25\u001b[0m     \u001b[1;32mif\u001b[0m \u001b[0mdepr_path\u001b[0m \u001b[1;32mnot\u001b[0m \u001b[1;32min\u001b[0m \u001b[1;33m(\u001b[0m\u001b[1;32mTrue\u001b[0m\u001b[1;33m,\u001b[0m \u001b[1;32mFalse\u001b[0m\u001b[1;33m,\u001b[0m \u001b[1;32mNone\u001b[0m\u001b[1;33m)\u001b[0m\u001b[1;33m:\u001b[0m\u001b[1;33m\u001b[0m\u001b[1;33m\u001b[0m\u001b[0m\n\u001b[0;32m     26\u001b[0m         \u001b[0mdeprecation_warning\u001b[0m\u001b[1;33m(\u001b[0m\u001b[0mWarnings\u001b[0m\u001b[1;33m.\u001b[0m\u001b[0mW001\u001b[0m\u001b[1;33m.\u001b[0m\u001b[0mformat\u001b[0m\u001b[1;33m(\u001b[0m\u001b[0mpath\u001b[0m\u001b[1;33m=\u001b[0m\u001b[0mdepr_path\u001b[0m\u001b[1;33m)\u001b[0m\u001b[1;33m)\u001b[0m\u001b[1;33m\u001b[0m\u001b[1;33m\u001b[0m\u001b[0m\n\u001b[1;32m---> 27\u001b[1;33m     \u001b[1;32mreturn\u001b[0m \u001b[0mutil\u001b[0m\u001b[1;33m.\u001b[0m\u001b[0mload_model\u001b[0m\u001b[1;33m(\u001b[0m\u001b[0mname\u001b[0m\u001b[1;33m,\u001b[0m \u001b[1;33m**\u001b[0m\u001b[0moverrides\u001b[0m\u001b[1;33m)\u001b[0m\u001b[1;33m\u001b[0m\u001b[1;33m\u001b[0m\u001b[0m\n\u001b[0m\u001b[0;32m     28\u001b[0m \u001b[1;33m\u001b[0m\u001b[0m\n\u001b[0;32m     29\u001b[0m \u001b[1;33m\u001b[0m\u001b[0m\n",
      "\u001b[1;32mc:\\users\\jeman\\pycharmprojects\\dfsrecap\\venv\\lib\\site-packages\\spacy\\util.py\u001b[0m in \u001b[0;36mload_model\u001b[1;34m(name, **overrides)\u001b[0m\n\u001b[0;32m    169\u001b[0m     \u001b[1;32melif\u001b[0m \u001b[0mhasattr\u001b[0m\u001b[1;33m(\u001b[0m\u001b[0mname\u001b[0m\u001b[1;33m,\u001b[0m \u001b[1;34m\"exists\"\u001b[0m\u001b[1;33m)\u001b[0m\u001b[1;33m:\u001b[0m  \u001b[1;31m# Path or Path-like to model data\u001b[0m\u001b[1;33m\u001b[0m\u001b[1;33m\u001b[0m\u001b[0m\n\u001b[0;32m    170\u001b[0m         \u001b[1;32mreturn\u001b[0m \u001b[0mload_model_from_path\u001b[0m\u001b[1;33m(\u001b[0m\u001b[0mname\u001b[0m\u001b[1;33m,\u001b[0m \u001b[1;33m**\u001b[0m\u001b[0moverrides\u001b[0m\u001b[1;33m)\u001b[0m\u001b[1;33m\u001b[0m\u001b[1;33m\u001b[0m\u001b[0m\n\u001b[1;32m--> 171\u001b[1;33m     \u001b[1;32mraise\u001b[0m \u001b[0mIOError\u001b[0m\u001b[1;33m(\u001b[0m\u001b[0mErrors\u001b[0m\u001b[1;33m.\u001b[0m\u001b[0mE050\u001b[0m\u001b[1;33m.\u001b[0m\u001b[0mformat\u001b[0m\u001b[1;33m(\u001b[0m\u001b[0mname\u001b[0m\u001b[1;33m=\u001b[0m\u001b[0mname\u001b[0m\u001b[1;33m)\u001b[0m\u001b[1;33m)\u001b[0m\u001b[1;33m\u001b[0m\u001b[1;33m\u001b[0m\u001b[0m\n\u001b[0m\u001b[0;32m    172\u001b[0m \u001b[1;33m\u001b[0m\u001b[0m\n\u001b[0;32m    173\u001b[0m \u001b[1;33m\u001b[0m\u001b[0m\n",
      "\u001b[1;31mOSError\u001b[0m: [E050] Can't find model 'en_core_web_sm'. It doesn't seem to be a shortcut link, a Python package or a valid path to a data directory."
     ],
     "ename": "OSError",
     "evalue": "[E050] Can't find model 'en_core_web_sm'. It doesn't seem to be a shortcut link, a Python package or a valid path to a data directory.",
     "output_type": "error"
    }
   ],
   "source": [
    "nlp = spacy.load(\"en_core_web_sm\")"
   ]
  },
  {
   "cell_type": "code",
   "execution_count": null,
   "metadata": {
    "pycharm": {
     "is_executing": false
    }
   },
   "outputs": [],
   "source": [
    "tokenized_comments = list(nlp.pipe(tqdm(df.comments.to_list()), batch_size=10000, n_threads=6))"
   ]
  },
  {
   "cell_type": "code",
   "execution_count": null,
   "metadata": {
    "pycharm": {
     "is_executing": false
    }
   },
   "outputs": [],
   "source": [
    "def filter_token(t):\n",
    "    return (\n",
    "        not t.is_bracket and\n",
    "        not t.is_currency and\n",
    "        not t.is_digit and\n",
    "        not t.is_left_punct and\n",
    "        not t.is_right_punct and\n",
    "        not t.is_punct and\n",
    "        not t.is_quote and\n",
    "        not t.is_space and \n",
    "        not t.is_stop and \n",
    "        not t.like_url and\n",
    "        not t.like_email and\n",
    "        not t.like_num and\n",
    "        t.is_alpha\n",
    "    )"
   ]
  },
  {
   "cell_type": "code",
   "execution_count": null,
   "metadata": {
    "pycharm": {
     "is_executing": false
    }
   },
   "outputs": [],
   "source": [
    "preprocessed_comments = [\n",
    "    [t.lemma_.lower() for t in c if filter_token(t)]\n",
    "    for c in tqdm(tokenized_comments)\n",
    "]"
   ]
  },
  {
   "cell_type": "code",
   "execution_count": null,
   "metadata": {
    "pycharm": {
     "is_executing": false
    }
   },
   "outputs": [],
   "source": [
    "preprocessed_comments[9]"
   ]
  },
  {
   "cell_type": "code",
   "execution_count": null,
   "metadata": {
    "pycharm": {
     "is_executing": false
    }
   },
   "outputs": [],
   "source": [
    "tokenized_comments[9]"
   ]
  },
  {
   "cell_type": "code",
   "execution_count": null,
   "metadata": {
    "pycharm": {
     "is_executing": false
    }
   },
   "outputs": [],
   "source": [
    "df[\"preprocessed_comments\"] = [\" \".join(c) for c in preprocessed_comments]"
   ]
  },
  {
   "cell_type": "code",
   "execution_count": null,
   "metadata": {
    "pycharm": {
     "is_executing": false
    }
   },
   "outputs": [],
   "source": [
    "preprocessed_vocab = Counter(chain.from_iterable(preprocessed_comments))\n",
    "print(\"Number of unique 'words' in corpus: \", len(preprocessed_vocab))"
   ]
  },
  {
   "cell_type": "code",
   "execution_count": null,
   "metadata": {
    "pycharm": {
     "is_executing": false
    }
   },
   "outputs": [],
   "source": [
    "print(\"1000 most common words: \\n\")\n",
    "for word, count in preprocessed_vocab.most_common()[:1000]:\n",
    "    print(word, \": \", count)"
   ]
  },
  {
   "cell_type": "code",
   "execution_count": null,
   "metadata": {
    "pycharm": {
     "is_executing": false
    }
   },
   "outputs": [],
   "source": [
    "print(\"1000 least common words: \\n\")\n",
    "for word, count in preprocessed_vocab.most_common()[-1000:]:\n",
    "    print(word, \": \", count)"
   ]
  },
  {
   "cell_type": "code",
   "execution_count": null,
   "metadata": {
    "pycharm": {
     "is_executing": false
    }
   },
   "outputs": [],
   "source": [
    "df.to_csv(\"data/reddit_spacy_train.csv\", index=False)"
   ]
  },
  {
   "cell_type": "code",
   "execution_count": null,
   "metadata": {
    "pycharm": {
     "is_executing": false
    }
   },
   "outputs": [],
   "source": []
  }
 ],
 "metadata": {
  "kernelspec": {
   "display_name": "Python 3",
   "language": "python",
   "name": "python3"
  },
  "language_info": {
   "codemirror_mode": {
    "name": "ipython",
    "version": 3
   },
   "file_extension": ".py",
   "mimetype": "text/x-python",
   "name": "python",
   "nbconvert_exporter": "python",
   "pygments_lexer": "ipython3",
   "version": "3.6.8"
  }
 },
 "nbformat": 4,
 "nbformat_minor": 2
}